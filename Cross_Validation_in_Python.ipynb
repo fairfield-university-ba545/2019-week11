{
  "nbformat": 4,
  "nbformat_minor": 0,
  "metadata": {
    "colab": {
      "name": "Cross_Validation_in_Python.ipynb",
      "provenance": []
    },
    "kernelspec": {
      "name": "python3",
      "display_name": "Python 3"
    }
  },
  "cells": [
    {
      "cell_type": "markdown",
      "metadata": {
        "id": "tMoPlBdz8sF4",
        "colab_type": "text"
      },
      "source": [
        "# Improve Your Model Performance using Cross Validation \n",
        "\n",
        "If you run your machine learning model several times, even with the same configuration, you may notice that your model performance may go up and down. Why would that happen? Since machine learning models try to approximate the data - there is always __uncertainty__ in there. \n",
        "\n",
        "We want to limit the __uncertainty__ in our models, so that _the model can produce consistent results on unseen data_. In other words, if the model uncertainty is too high, the model may produce unreliable results."
      ]
    },
    {
      "cell_type": "markdown",
      "metadata": {
        "id": "BmGyqCnF-_3H",
        "colab_type": "text"
      },
      "source": [
        "## Why do models lose stability?\n",
        "Let’s understand this using the below snapshot illustrating the fit of various models:\n",
        "\n",
        "![Model Stability](https://www.analyticsvidhya.com/wp-content/uploads/2015/11/15.png)\n",
        "\n",
        "Here, we are trying to find the relationship between size and price. To achieve this, we have taken the following steps:\n",
        "\n",
        "1. In the first plot, you can observe high error (model fitting loosely to the data) - it is an example of “Underfitting”.\n",
        "The first plot has a high error from training data points. \n",
        "2. In the second plot, we just found the right relationship between price and size, i.e., low training error and generalization of the relationship. \n",
        "3. In the third plot, we found a relationship which has almost zero training error. This is because the relationship is developed by considering each deviation in the data point (including noise), i.e., the model is too sensitive and captures random patterns which are present only in the current dataset. This is an example of “Overfitting”. \n",
        "\n",
        "A common practice in data science competitions is to iterate over various models to find a better performing model. However, it becomes difficult to distinguish whether this improvement in score is coming because we are capturing the relationship better, or we are just over-fitting the data. To find the right answer for this question, we use validation techniques. This method helps us in achieving more generalized relationships.\n",
        "\n"
      ]
    },
    {
      "cell_type": "markdown",
      "metadata": {
        "id": "LM-9wxrSAuv2",
        "colab_type": "text"
      },
      "source": [
        "## Before Cross Validation\n",
        "\n",
        "So far, in all but one tutorials in this class, we have been using the traditional train-test split method for validation purposes. This method is called the __(_fixed_) hold-out method__. In this method, a fixed portion of the data (e.g. _20%_) is reserved for evaluation purposes. \n",
        "\n",
        "Refresh your memory with the code below. "
      ]
    },
    {
      "cell_type": "code",
      "metadata": {
        "id": "2gty6yjp8rft",
        "colab_type": "code",
        "colab": {}
      },
      "source": [
        "# import the required packages\n",
        "from sklearn.datasets import load_breast_cancer\n",
        "from sklearn.model_selection import *\n",
        "import pandas as pd\n",
        "import numpy as np\n",
        "\n",
        "\n",
        "from sklearn.svm import SVC\n",
        "from sklearn.metrics import accuracy_score\n",
        "\n",
        "from sklearn.model_selection import cross_val_score\n",
        "import matplotlib.pyplot as plt\n",
        "plt.style.use('ggplot')\n",
        "\n",
        "import warnings\n",
        "warnings.filterwarnings('ignore')"
      ],
      "execution_count": 0,
      "outputs": []
    },
    {
      "cell_type": "code",
      "metadata": {
        "id": "abBLqfdD8f6Q",
        "colab_type": "code",
        "colab": {}
      },
      "source": [
        "# load the wine dataset\n",
        "my_data = load_breast_cancer()\n",
        "my_data.keys()"
      ],
      "execution_count": 0,
      "outputs": []
    },
    {
      "cell_type": "code",
      "metadata": {
        "id": "XgE4BDXFCM3P",
        "colab_type": "code",
        "colab": {}
      },
      "source": [
        "my_df = pd.DataFrame(my_data.data, columns=my_data.feature_names)\n",
        "my_df.head()"
      ],
      "execution_count": 0,
      "outputs": []
    },
    {
      "cell_type": "code",
      "metadata": {
        "id": "51ZHhVXdCjUb",
        "colab_type": "code",
        "colab": {}
      },
      "source": [
        "my_df['label'] = my_data.target\n",
        "my_df.head()"
      ],
      "execution_count": 0,
      "outputs": []
    },
    {
      "cell_type": "code",
      "metadata": {
        "id": "0ozuEkb4Ctad",
        "colab_type": "code",
        "colab": {}
      },
      "source": [
        "# split the data into train/test\n",
        "# test takes up 20% of the data\n",
        "X_train, X_test,y_train, y_test\\\n",
        "    = train_test_split(my_data.data, my_data.target, test_size=0.2, random_state=2020)"
      ],
      "execution_count": 0,
      "outputs": []
    },
    {
      "cell_type": "code",
      "metadata": {
        "id": "QBebu-Z_DJWF",
        "colab_type": "code",
        "colab": {}
      },
      "source": [
        "X_train.shape, y_train.shape, X_test.shape, y_test.shape"
      ],
      "execution_count": 0,
      "outputs": []
    },
    {
      "cell_type": "markdown",
      "metadata": {
        "id": "uYzNjeLWEane",
        "colab_type": "text"
      },
      "source": [
        "We discussed sometimes we might want to reserve a portion of the data for model optimization purposes - that portion of the data is called the validation set. So that method is called the _three-way hold-out method_.\n",
        "\n",
        "![three way hold out](https://i.stack.imgur.com/pXAfX.png)\n",
        "\n",
        "We can also do that with `train_test_split()`. Say we want to reserve `20%` for validation."
      ]
    },
    {
      "cell_type": "code",
      "metadata": {
        "id": "3GpzAiCUDZun",
        "colab_type": "code",
        "colab": {}
      },
      "source": [
        "X_train, X_val, y_train, y_val\\\n",
        "   = train_test_split(X_train, y_train, test_size=0.25, random_state=2020) # 0.25 x 0.8 = 0.2"
      ],
      "execution_count": 0,
      "outputs": []
    },
    {
      "cell_type": "code",
      "metadata": {
        "id": "dSxXcdsqFwT_",
        "colab_type": "code",
        "colab": {}
      },
      "source": [
        "X_train.shape, X_val.shape, y_train.shape, y_val.shape"
      ],
      "execution_count": 0,
      "outputs": []
    },
    {
      "cell_type": "markdown",
      "metadata": {
        "id": "Xbqy7dtGGgTC",
        "colab_type": "text"
      },
      "source": [
        "Now we can try to fit the model multiple times to observe the variance in model performances with the __hold out method__."
      ]
    },
    {
      "cell_type": "code",
      "metadata": {
        "id": "JDuMwoOAGCrz",
        "colab_type": "code",
        "colab": {}
      },
      "source": [
        "clf = SVC(C=1.0)\n",
        "for i in range(10):\n",
        "  fit = clf.fit(X_train, y_train)\n",
        "  y_pred = clf.predict(X_test)\n",
        "  print('Accruracy for ', i, 'th round training: ', round(accuracy_score(y_test, y_pred), 4)) # no variance"
      ],
      "execution_count": 0,
      "outputs": []
    },
    {
      "cell_type": "markdown",
      "metadata": {
        "id": "h82ts6waHunF",
        "colab_type": "text"
      },
      "source": [
        "We can observe from above there are no variances in the results - since `sklearn` will always optimize your model within the current configuration.\n",
        "\n",
        "If we want to see some variance, we need to have different training/test sets (with the same 80:20 split). We can do that via the __Repeated Holdout__ method. See the code below."
      ]
    },
    {
      "cell_type": "code",
      "metadata": {
        "id": "jF2-7VuWxJNV",
        "colab_type": "code",
        "colab": {}
      },
      "source": [
        "for i in range(10):\n",
        "  # remove `random_state` so we have different training/test sample in every iteration\n",
        "  X_train, X_test,y_train, y_test\\\n",
        "    = train_test_split(my_data.data, my_data.target, test_size=0.2)\n",
        "  fit = clf.fit(X_train, y_train)\n",
        "  y_pred = clf.predict(X_test)\n",
        "  print('Accruracy for ', i, 'th round training: ', round(accuracy_score(y_test, y_pred), 4)) # some variance"
      ],
      "execution_count": 0,
      "outputs": []
    },
    {
      "cell_type": "markdown",
      "metadata": {
        "id": "wUVscJpewsU2",
        "colab_type": "text"
      },
      "source": [
        "Now you can see some bumping ups and downs in the results (variance). \n",
        "\n",
        "So what is wrong with the hold out and the repeated holdout methods? Since you essentially is training your model in one shot, you may get a \"lucky draw' of your data (in which your model outperforms the actual), or even worse, an \"unlucky draw\" (in which your model underperforms the actual). We do not want either situation - we want a __fair estimate__ of the model performance.\n",
        "\n",
        "In other words, you want your model to be exposed to as much data as you can, so the model can learn a comprehensive pattern (not a partial image) from your data. Since we cannot use all the data for training, that is why we need __Cross Validation__."
      ]
    },
    {
      "cell_type": "markdown",
      "metadata": {
        "id": "Qs8sjY0ZAFYL",
        "colab_type": "text"
      },
      "source": [
        "## What is Cross Validation?\n",
        "Cross Validation is a technique which involves reserving a particular sample of a dataset on which you do not train the model. Later, you test your model on this sample before finalizing it.\n",
        "\n",
        "Here are the steps involved in k-fold cross validation:\n",
        "\n",
        "1. Split your dataset into K (roughly) equal folds, and reserve 1 fold for evaluation/optimization purposes - note these two are related but different;\n",
        "2. Train the model using the remaining (K-1) folds and the reserve sample as the test (validation) set. This will help you in gauging the effectiveness of your model’s performance. \n",
        "\n",
        "If your model delivers a positive result on validation data, go ahead with the current model. \n",
        "\n",
        "Even though k-fold cross validation is the most popular type, do not assume that it is the _only_ cross validation method."
      ]
    },
    {
      "cell_type": "markdown",
      "metadata": {
        "id": "oIOnBIt7JO6Y",
        "colab_type": "text"
      },
      "source": [
        "## Common Methods for Cross Validation\n",
        "\n",
        "Cross Validation (CV) is a family of sampling/model evaluation/model optimization methods. In the stats context, it is a sampling method. In the machine learning context, it is widely used for model evaluation and/or model optimization purposes. \n",
        "\n",
        "There is a recommendation that every model needs to go through CV once, either for model evaluation or model optimization purposes. \n",
        "\n",
        "Here is a list of common CV methods:\n",
        "- Leave-One-Out Cross Validation (LOOCV) (_most extreme_)\n",
        "- K-fold Cross Validation (_most popular_)\n",
        "- Repeated K-fold Cross Validation\n",
        "- Stratified K-fold Cross Validation (_best for imblanced data_)\n",
        "- Cross Validation for Time Series (_fairly popular right now_)\n",
        "\n",
        "Let's see how to implement them one by one."
      ]
    },
    {
      "cell_type": "markdown",
      "metadata": {
        "id": "LMj-44tMLkE3",
        "colab_type": "text"
      },
      "source": [
        "### Leave-One-Out Cross Validation (LOOCV)\n",
        "\n",
        "LOOCV is the most extreme CV method. In every iteration, only __one data point__ is used for testing, the remainder of the data is used for training.\n",
        "\n",
        "Pros:\n",
        "- Model is fit to almost the whole dataset; very little chance of having a \"lucky/unlucky\" draw;\n",
        "\n",
        "Cons:\n",
        "- Training is slow;\n",
        "- Variance in model performances is high.\n",
        "\n",
        "Even though `sklearn` has its own `LeaveOneOut` method, we can essentially use the `KFold()` method for that."
      ]
    },
    {
      "cell_type": "code",
      "metadata": {
        "id": "nmJMbGZTGNtN",
        "colab_type": "code",
        "colab": {}
      },
      "source": [
        "X = my_data.data\n",
        "\n",
        "kf = KFold(n_splits=len(X)) # split the data \n",
        "\n",
        "# look at the first 3 iterations\n",
        "i = 0\n",
        "for train_index, test_index in kf.split(X):\n",
        "  print(\"Training data contains\", len(train_index), \"data points\")\n",
        "  print(\"TEST data contains\", len(test_index), \"data points\")     \n",
        "  i += 1\n",
        "  if i > 3:\n",
        "    break\n"
      ],
      "execution_count": 0,
      "outputs": []
    },
    {
      "cell_type": "markdown",
      "metadata": {
        "id": "5Avg-k0jOE9w",
        "colab_type": "text"
      },
      "source": [
        "We can see in every iteration, the training dataset contains $569 - 1 = 568$ instances, and the test set contains $1$ data point. \n",
        "\n",
        "Even though we can implement the LOOCV in `sklearn`, it is not well supported in it. So we will stop here and move on to the next method, K-fold CV."
      ]
    },
    {
      "cell_type": "markdown",
      "metadata": {
        "id": "LlBKU3pJUJPc",
        "colab_type": "text"
      },
      "source": [
        "### K-fold Cross Validation\n",
        "\n",
        "This is the most popular method in the context of CV.\n",
        "\n",
        "Pros:\n",
        "- Most balanced method;\n",
        "- Can be used for both model evaluation and optmization purposes\n",
        "\n",
        "Cons:\n",
        "- if dataset is too small and K is too large, model might underfit\n",
        "- if k is too small, model may overfit\n",
        "\n",
        "For __evaluation purposes__, we can simply use the `cross_val_score` method.\n",
        "- it takes the model, features, target, and K as function parameters\n",
        "- by default the returned value is the accuracy score (e.g. classification accuracy for our model)\n",
        "\n",
        "Below code performs a 5-fold CV using the `SVC` model above on our data - you can see five different _accuracy_ scores.\n"
      ]
    },
    {
      "cell_type": "code",
      "metadata": {
        "id": "RcCiWrEaOBWd",
        "colab_type": "code",
        "colab": {}
      },
      "source": [
        "y = my_data.target\n",
        "cross_val_score(clf, X, y, cv=5)"
      ],
      "execution_count": 0,
      "outputs": []
    },
    {
      "cell_type": "code",
      "metadata": {
        "id": "AgX8_8ukPNYP",
        "colab_type": "code",
        "colab": {}
      },
      "source": [
        "# change k to 3\n",
        "cross_val_score(clf, X, y, cv=3)"
      ],
      "execution_count": 0,
      "outputs": []
    },
    {
      "cell_type": "code",
      "metadata": {
        "id": "kevx4sjmaTD-",
        "colab_type": "code",
        "colab": {}
      },
      "source": [
        "# change k to 10\n",
        "cross_val_score(clf, X, y, cv=10)"
      ],
      "execution_count": 0,
      "outputs": []
    },
    {
      "cell_type": "markdown",
      "metadata": {
        "id": "4Qi1S5yPaaQ7",
        "colab_type": "text"
      },
      "source": [
        "If you want the final score of the model, usually we will use the __average__ across the `k` iterations."
      ]
    },
    {
      "cell_type": "code",
      "metadata": {
        "id": "tetH2vZ0aXA2",
        "colab_type": "code",
        "colab": {}
      },
      "source": [
        "print('final model accuracy:', cross_val_score(clf, X, y, cv=10).mean())"
      ],
      "execution_count": 0,
      "outputs": []
    },
    {
      "cell_type": "markdown",
      "metadata": {
        "id": "KV03Cf1ykyEe",
        "colab_type": "text"
      },
      "source": [
        "You can also test how much the variance is in the results, you can check the _standard deviation_ of the scores."
      ]
    },
    {
      "cell_type": "code",
      "metadata": {
        "id": "PEEyfxsLlAWy",
        "colab_type": "code",
        "colab": {}
      },
      "source": [
        "print('model accuracy variance:', np.std(cross_val_score(clf, X, y, cv=10)))"
      ],
      "execution_count": 0,
      "outputs": []
    },
    {
      "cell_type": "markdown",
      "metadata": {
        "id": "ohqS71-ubCbZ",
        "colab_type": "text"
      },
      "source": [
        "You can also specify using different metrics. For instance, we may want to focus on the _f1-score_ or the _ROC/AUC_ metric. All supported scoring metrics are listed [here](https://scikit-learn.org/stable/modules/model_evaluation.html#scoring-parameter).\n",
        "\n",
        "We can do that using the code below."
      ]
    },
    {
      "cell_type": "code",
      "metadata": {
        "id": "WpaIoGw-a-5j",
        "colab_type": "code",
        "colab": {}
      },
      "source": [
        "cross_val_score(clf, X, y, cv=10, scoring='f1')"
      ],
      "execution_count": 0,
      "outputs": []
    },
    {
      "cell_type": "code",
      "metadata": {
        "id": "NC83Busnb-yx",
        "colab_type": "code",
        "colab": {}
      },
      "source": [
        "cross_val_score(clf, X, y, cv=10, scoring='roc_auc')"
      ],
      "execution_count": 0,
      "outputs": []
    },
    {
      "cell_type": "markdown",
      "metadata": {
        "id": "pixwJKlKdJoe",
        "colab_type": "text"
      },
      "source": [
        "The `cross_val_score` method is a shortcut for model evaluation purposes. The regular method is `KFold` - if we want to use the K-fold CV for model optimization purposes, we can use `KFold`, or specific methods for hyperparameter tuning that we will see next week."
      ]
    },
    {
      "cell_type": "markdown",
      "metadata": {
        "id": "YdEIdGfvc0Fv",
        "colab_type": "text"
      },
      "source": [
        "### Repeated K-fold Cross Validation\n",
        "\n",
        "Repeated K-fold CV is basically conducting the K-Fold cross validation `i` times. See the comparison below."
      ]
    },
    {
      "cell_type": "code",
      "metadata": {
        "id": "KGxs_9JJeylL",
        "colab_type": "code",
        "colab": {}
      },
      "source": [
        "# create some synthetic data for illustration\n",
        "X_data = np.random.randint(5, size=(9, 2))\n",
        "X_data"
      ],
      "execution_count": 0,
      "outputs": []
    },
    {
      "cell_type": "markdown",
      "metadata": {
        "id": "XKNg2Y-TgEiA",
        "colab_type": "text"
      },
      "source": [
        "Regular K-fold CV:"
      ]
    },
    {
      "cell_type": "code",
      "metadata": {
        "id": "hewgn3dWfTBy",
        "colab_type": "code",
        "colab": {}
      },
      "source": [
        "kf = KFold(n_splits=3, random_state=2020)\n",
        "for train_index, test_index in kf.split(X_data):\n",
        "      print(\"Train:\")\n",
        "      print(X_data[train_index])\n",
        "      print(\"Test:\")\n",
        "      print(X_data[test_index])\n",
        "      print('\\n')"
      ],
      "execution_count": 0,
      "outputs": []
    },
    {
      "cell_type": "markdown",
      "metadata": {
        "id": "78dI4KwrgH9r",
        "colab_type": "text"
      },
      "source": [
        "Repeated K-fold CV:\n",
        "Note that between the repeat, the data is variant (not simple repeat, repeat with randomness)."
      ]
    },
    {
      "cell_type": "code",
      "metadata": {
        "id": "GSjOSAxlgCsX",
        "colab_type": "code",
        "colab": {}
      },
      "source": [
        "rkf = RepeatedKFold(n_splits=3, n_repeats=5, random_state=2020)\n",
        "for train_index, test_index in rkf.split(X_data):\n",
        "      print(\"Train:\")\n",
        "      print(X_data[train_index])\n",
        "      print(\"Test:\")\n",
        "      print(X_data[test_index])\n",
        "      print('\\n')"
      ],
      "execution_count": 0,
      "outputs": []
    },
    {
      "cell_type": "markdown",
      "metadata": {
        "id": "TSNKDVAmch-q",
        "colab_type": "text"
      },
      "source": [
        "### Stratified K-fold Cross Validation\n",
        "\n",
        "Stratified K-fold CV is particularly useful when the data is imbalanced. See below code for the use of the `StratifiedKFold` method."
      ]
    },
    {
      "cell_type": "code",
      "metadata": {
        "id": "oxo_6IWicD0K",
        "colab_type": "code",
        "colab": {}
      },
      "source": [
        "skf = StratifiedKFold(n_splits=5, random_state=None)\n",
        "# X is the feature set and y is the target\n",
        "for train_index, test_index in skf.split(X,y): \n",
        "    print(\"Train:\", train_index, \"Validation:\", val_index) \n",
        "    X_train, X_test = X[train_index], X[val_index] \n",
        "    y_train, y_test = y[train_index], y[val_index]\n"
      ],
      "execution_count": 0,
      "outputs": []
    },
    {
      "cell_type": "markdown",
      "metadata": {
        "id": "JQgLrZ3ChwxS",
        "colab_type": "text"
      },
      "source": [
        "As said above, for model evaluation purposes, we can simply use the `cross_val_score` function. In the `cross_val_score` function, if the `cv` value is _integer_, the model (e.g. `clf`) is a classifier, and `y` is _categorical_ (e.g. _binary_ in this case),  `StratifiedKFold` is used. In all other cases, `KFold` is used. In short, `cross_val_score` by default apply stratified K-fold CV for classification problems."
      ]
    },
    {
      "cell_type": "markdown",
      "metadata": {
        "id": "_14GHy2yi2ju",
        "colab_type": "text"
      },
      "source": [
        "### Cross Validation for Time Series\n",
        "\n",
        "Time series data is very special - since the time sequence is implied in the data. Thus, splitting a time-series dataset randomly does not work because the time section of your data will be messed up. For a time series forecasting problem, we perform cross validation in the forward chaining manner.\n",
        "\n",
        "```\n",
        "fold 1: training [1], test [2]\n",
        "fold 2: training [1 2], test [3]\n",
        "fold 3: training [1 2 3], test [4]\n",
        "fold 4: training [1 2 3 4], test [5]\n",
        "fold 5: training [1 2 3 4 5], test [6]\n",
        ".\n",
        ".\n",
        ".\n",
        "fold n: training [1 2 3 ….. n-1], test [n]\n",
        "```"
      ]
    },
    {
      "cell_type": "code",
      "metadata": {
        "id": "QZTrRe-Jiy66",
        "colab_type": "code",
        "colab": {}
      },
      "source": [
        "tscv = TimeSeriesSplit(n_splits=3)\n",
        "for train_index, test_index in tscv.split(X_data):\n",
        "      print(\"Train:\")\n",
        "      print(X_data[train_index])\n",
        "      print(\"Test:\")\n",
        "      print(X_data[test_index])\n",
        "      print('\\n')"
      ],
      "execution_count": 0,
      "outputs": []
    },
    {
      "cell_type": "markdown",
      "metadata": {
        "id": "Kojjoc4ej96l",
        "colab_type": "text"
      },
      "source": [
        "# Conclusion\n",
        "\n",
        "In this tutorial, we discussed the importance of cross validation in machine learning models, in particular we focused on the __model evaluation__ use of CV. Thus, you should be comfortable using the `cross_val_score` function in your model evaluation phase.\n",
        "\n",
        "We also surveyed the most popular CV methods - `sklearn` support most of them natively. In other projects, you may want to use other CV methods.\n",
        "\n",
        "In next week's tutorial, we will use CV for another important purpose: model optimization. Till then, try CV on your own to evaluate your models."
      ]
    }
  ]
}